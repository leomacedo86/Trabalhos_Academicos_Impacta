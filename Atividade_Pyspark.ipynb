{
 "cells": [
  {
   "cell_type": "code",
   "execution_count": null,
   "metadata": {
    "id": "euc1qXDZnvYV"
   },
   "outputs": [],
   "source": [
    "%%sh\n",
    "sudo pip install spark\n",
    "sudo pip install pyspark"
   ]
  },
  {
   "cell_type": "markdown",
   "metadata": {
    "id": "tHnJwSK0wIYV"
   },
   "source": [
    "# IMPORTS "
   ]
  },
  {
   "cell_type": "code",
   "execution_count": null,
   "metadata": {
    "id": "dgZnuGSpnxCm"
   },
   "outputs": [],
   "source": [
    "\n",
    "\n",
    "#Pandas, podemos transformar um dataframe do pandas em um dataframe do spark e o contrário também\n",
    "import pandas as pd\n",
    "\n",
    "#Importando o spark e o pyspark\n",
    "import spark,pyspark\n",
    "\n",
    "#Importando as bibliotecas do pyspark.sql \n",
    "from pyspark.sql import *\n",
    "\n",
    "#Importando as funções sql do spark\n",
    "#documentação https://spark.apache.org/docs/latest/api/sql/index.html\n",
    "from pyspark.sql import functions as f\n",
    "\n",
    "#Importando os tipos de dados do spark\n",
    "#documentação https://spark.apache.org/docs/latest/sql-ref-datatypes.html\n",
    "from pyspark.sql import types as t \n",
    "\n",
    "#Biblioteca datetime\n",
    "from datetime import datetime, date,timedelta"
   ]
  },
  {
   "cell_type": "markdown",
   "metadata": {
    "id": "hiCNb_iCwOwI"
   },
   "source": [
    "# EXERCÍCIOS"
   ]
  },
  {
   "cell_type": "markdown",
   "metadata": {
    "id": "3kwDgWC2wupJ"
   },
   "source": [
    "## Criar um spark context com o app name = “AC4 DataEng”"
   ]
  },
  {
   "cell_type": "code",
   "execution_count": null,
   "metadata": {
    "id": "GkhU_ZUKn2EZ"
   },
   "outputs": [],
   "source": [
    "#Criando uma Sessão do Spark (Spark Session)\n",
    "spark = SparkSession.builder.master(\"local\").appName(\"AC4 DataEng\").getOrCreate()\n",
    "#spark.conf.set(\"spark.sql.sources.partitionOverwriteMode\",\"dynamic\")"
   ]
  },
  {
   "cell_type": "markdown",
   "metadata": {
    "id": "0gj75bkYwzW1"
   },
   "source": [
    "## Criar um dataframe lendo o arquivo vendas.parquet"
   ]
  },
  {
   "cell_type": "code",
   "execution_count": null,
   "metadata": {
    "id": "dy87XK5Jn6Lk"
   },
   "outputs": [],
   "source": [
    "# Criação do Dataframe Vendas, através do Spark\n",
    "#df_vendas = spark.read.format(\"parquet\").option(\"delimiter\",\";\").option(\"header\",\"true\").load(\"/content/vendas.parquet\")\n",
    "df_vendas = spark.read.format(\"parquet\").option(\"header\",\"true\").load(\"/content/vendas.parquet\")"
   ]
  },
  {
   "cell_type": "code",
   "execution_count": null,
   "metadata": {
    "colab": {
     "base_uri": "https://localhost:8080/"
    },
    "id": "2dG19rOktmsd",
    "outputId": "7d4f90a7-dd4d-4361-fbaf-d216c7f0ecc1"
   },
   "outputs": [
    {
     "name": "stdout",
     "output_type": "stream",
     "text": [
      "+-------------+----------+-------------+----------+---+---+----------+----+-----+------+----+----------------+--------------------+-----------+------------+-------------+-----------------+-----------------+\n",
      "|      cod_ean|cod_pessoa|cod_transacao|      data|vlr|qtd|      nome| sms|email|classe|sexo|          cidade|         des_produto|des_familia|   des_secao|des_categoria|des_sub_categoria|__index_level_0__|\n",
      "+-------------+----------+-------------+----------+---+---+----------+----+-----+------+----+----------------+--------------------+-----------+------------+-------------+-----------------+-----------------+\n",
      "|7896901200013|      4644|      8064284|2020-10-26| 67|  3|NOME_a4644|true|false|  Ouro|   F|       São Paulo|                null|       null|        null|         null|             null|                0|\n",
      "|7897001010014|      3578|      8067745|2020-10-26| 54|  7|NOME_o3578|true|false|  Ouro|   M|  Belo Horizonte|                null|       null|        null|         null|             null|                1|\n",
      "|         8555|      6505|      8301911|2020-12-18|  6|  1|NOME_i6505|true|false|  Ouro|   F|  Rio de Janeiro|PAO DA CASA FRANC...| PERECIVEIS|PADARIA LOJA|PRODUCAO PAES|                 |                2|\n",
      "|         2325|      3982|      8194983|2020-11-25| 22|  1|NOME_s3982|true| true|  Ouro|   F|São Bento do Sul|                null|       null|        null|         null|             null|                3|\n",
      "|          666|      1195|      8109606|2020-11-05| 32|  1|NOME_a1195|true| true|  Ouro|   M|    Campo Alegre| ACEM BOVINO KG PECA| PERECIVEIS|     ACOUGUE| CARNE BOVINA|                 |                4|\n",
      "|         3087|     36979|      8123367|2020-11-08| 64|  5|      null|null| null|  null|null|            null|                null|       null|        null|         null|             null|                5|\n",
      "|7894900011517|     14173|      8027160|2020-10-17| 41|  6|NOME_14173|true|false|  Ouro|   F|  Rio de Janeiro|                null|       null|        null|         null|             null|                6|\n",
      "|         3690|      3618|      8025931|2020-10-17|  3|  1|NOME_e3618|true| true|  Ouro|   F|          Manaus| TOMATE PIZZADORO KG| PERECIVEIS|       F L V|      LEGUMES|                 |                7|\n",
      "|         5623|      4860|      8026361|2020-10-17|  3|  1|NOME_a4860|true|false|  Ouro|   F|          Manaus|  CEBOLA NACIONAL KG| PERECIVEIS|       F L V|       CEBOLA|                 |                8|\n",
      "|         5623|     23792|      8270907|2020-12-11|  6|  2|      null|null| null|  null|null|            null|  CEBOLA NACIONAL KG| PERECIVEIS|       F L V|       CEBOLA|                 |                9|\n",
      "|         9591|     42057|      8114968|2020-11-06|  6|  0|NOME_42057|true|false|  Ouro|   M|São Bento do Sul|   ALHO GRANEL T6 KG| PERECIVEIS|       F L V|         ALHO|                 |               10|\n",
      "|         3690|     12539|      8174079|2020-11-20| 13|  4|NOME_12539|true| true|  Ouro|   F|          Recife| TOMATE PIZZADORO KG| PERECIVEIS|       F L V|      LEGUMES|                 |               11|\n",
      "|7897001010014|     23881|      8188049|2020-11-23|  8|  1|NOME_23881|true|false|  Ouro|   F|          Manaus|                null|       null|        null|         null|             null|               12|\n",
      "|         1663|     12539|      8232779|2020-12-03|  6|  1|NOME_12539|true| true|  Ouro|   F|          Recife|    BANANA NANICA KG| PERECIVEIS|       F L V|       FRUTAS|                 |               13|\n",
      "|7896864400178|      1195|      7917141|2020-09-22| 35|  5|NOME_a1195|true| true|  Ouro|   M|    Campo Alegre|                null|       null|        null|         null|             null|               14|\n",
      "|         1663|     14173|      7916639|2020-09-22|  7|  1|NOME_14173|true|false|  Ouro|   F|  Rio de Janeiro|    BANANA NANICA KG| PERECIVEIS|       F L V|       FRUTAS|                 |               15|\n",
      "|         1663|      2274|      8036529|2020-10-19|  9|  3|NOME_e2274|true|false|  Ouro|   M|          Manaus|    BANANA NANICA KG| PERECIVEIS|       F L V|       FRUTAS|                 |               16|\n",
      "|7897001010014|      1364|      8121027|2020-11-07| 15|  2|NOME_n1364|true| true|  Ouro|   F|          Manaus|                null|       null|        null|         null|             null|               17|\n",
      "|         5623|     23792|      8136281|2020-11-11|  5|  1|      null|null| null|  null|null|            null|  CEBOLA NACIONAL KG| PERECIVEIS|       F L V|       CEBOLA|                 |               18|\n",
      "|         5623|      1324|      8308469|2020-12-19|  5|  1|NOME_r1324|true| true|  Ouro|   F|     Campo Largo|  CEBOLA NACIONAL KG| PERECIVEIS|       F L V|       CEBOLA|                 |               19|\n",
      "+-------------+----------+-------------+----------+---+---+----------+----+-----+------+----+----------------+--------------------+-----------+------------+-------------+-----------------+-----------------+\n",
      "only showing top 20 rows\n",
      "\n"
     ]
    }
   ],
   "source": [
    "df_vendas.show()"
   ]
  },
  {
   "cell_type": "markdown",
   "metadata": {
    "id": "OooyloN-xDoJ"
   },
   "source": [
    "## Converter a coluna data para o tipo DateType"
   ]
  },
  {
   "cell_type": "code",
   "execution_count": null,
   "metadata": {
    "id": "v5l70hPxtpl-"
   },
   "outputs": [],
   "source": [
    "#Convertendo uma coluna\n",
    "df_vendas = df_vendas.withColumn(\"data\",df_vendas.data.cast(t.DateType()))"
   ]
  },
  {
   "cell_type": "markdown",
   "metadata": {
    "id": "UBIcnDDoxLyx"
   },
   "source": [
    "## Criar as colunas: \n",
    "### A - ano = ano da coluna “data”.\n",
    "### B - mes= mes da coluna “data”.\n",
    "### C - dia= dia da coluna “data”.\n"
   ]
  },
  {
   "cell_type": "code",
   "execution_count": null,
   "metadata": {
    "id": "yV2KWO7Juya4"
   },
   "outputs": [],
   "source": [
    "df_vendas = df_vendas.withColumn(\"Ano\",f.year(\"data\"))\n",
    "df_vendas = df_vendas.withColumn(\"Mes\",f.month(\"data\"))\n",
    "df_vendas = df_vendas.withColumn(\"Dia\",f.dayofmonth(\"data\"))"
   ]
  },
  {
   "cell_type": "code",
   "execution_count": null,
   "metadata": {
    "colab": {
     "base_uri": "https://localhost:8080/"
    },
    "id": "sKEp-hU1uyYl",
    "outputId": "a90e4631-0a1c-4c95-f053-b10d72ef8780"
   },
   "outputs": [
    {
     "name": "stdout",
     "output_type": "stream",
     "text": [
      "+-------------+----------+-------------+----------+---+---+----------+----+-----+------+----+----------------+--------------------+-----------+------------+-------------+-----------------+-----------------+----+---+---+\n",
      "|      cod_ean|cod_pessoa|cod_transacao|      data|vlr|qtd|      nome| sms|email|classe|sexo|          cidade|         des_produto|des_familia|   des_secao|des_categoria|des_sub_categoria|__index_level_0__| Ano|Mes|Dia|\n",
      "+-------------+----------+-------------+----------+---+---+----------+----+-----+------+----+----------------+--------------------+-----------+------------+-------------+-----------------+-----------------+----+---+---+\n",
      "|7896901200013|      4644|      8064284|2020-10-26| 67|  3|NOME_a4644|true|false|  Ouro|   F|       São Paulo|                null|       null|        null|         null|             null|                0|2020| 10| 26|\n",
      "|7897001010014|      3578|      8067745|2020-10-26| 54|  7|NOME_o3578|true|false|  Ouro|   M|  Belo Horizonte|                null|       null|        null|         null|             null|                1|2020| 10| 26|\n",
      "|         8555|      6505|      8301911|2020-12-18|  6|  1|NOME_i6505|true|false|  Ouro|   F|  Rio de Janeiro|PAO DA CASA FRANC...| PERECIVEIS|PADARIA LOJA|PRODUCAO PAES|                 |                2|2020| 12| 18|\n",
      "|         2325|      3982|      8194983|2020-11-25| 22|  1|NOME_s3982|true| true|  Ouro|   F|São Bento do Sul|                null|       null|        null|         null|             null|                3|2020| 11| 25|\n",
      "|          666|      1195|      8109606|2020-11-05| 32|  1|NOME_a1195|true| true|  Ouro|   M|    Campo Alegre| ACEM BOVINO KG PECA| PERECIVEIS|     ACOUGUE| CARNE BOVINA|                 |                4|2020| 11|  5|\n",
      "|         3087|     36979|      8123367|2020-11-08| 64|  5|      null|null| null|  null|null|            null|                null|       null|        null|         null|             null|                5|2020| 11|  8|\n",
      "|7894900011517|     14173|      8027160|2020-10-17| 41|  6|NOME_14173|true|false|  Ouro|   F|  Rio de Janeiro|                null|       null|        null|         null|             null|                6|2020| 10| 17|\n",
      "|         3690|      3618|      8025931|2020-10-17|  3|  1|NOME_e3618|true| true|  Ouro|   F|          Manaus| TOMATE PIZZADORO KG| PERECIVEIS|       F L V|      LEGUMES|                 |                7|2020| 10| 17|\n",
      "|         5623|      4860|      8026361|2020-10-17|  3|  1|NOME_a4860|true|false|  Ouro|   F|          Manaus|  CEBOLA NACIONAL KG| PERECIVEIS|       F L V|       CEBOLA|                 |                8|2020| 10| 17|\n",
      "|         5623|     23792|      8270907|2020-12-11|  6|  2|      null|null| null|  null|null|            null|  CEBOLA NACIONAL KG| PERECIVEIS|       F L V|       CEBOLA|                 |                9|2020| 12| 11|\n",
      "|         9591|     42057|      8114968|2020-11-06|  6|  0|NOME_42057|true|false|  Ouro|   M|São Bento do Sul|   ALHO GRANEL T6 KG| PERECIVEIS|       F L V|         ALHO|                 |               10|2020| 11|  6|\n",
      "|         3690|     12539|      8174079|2020-11-20| 13|  4|NOME_12539|true| true|  Ouro|   F|          Recife| TOMATE PIZZADORO KG| PERECIVEIS|       F L V|      LEGUMES|                 |               11|2020| 11| 20|\n",
      "|7897001010014|     23881|      8188049|2020-11-23|  8|  1|NOME_23881|true|false|  Ouro|   F|          Manaus|                null|       null|        null|         null|             null|               12|2020| 11| 23|\n",
      "|         1663|     12539|      8232779|2020-12-03|  6|  1|NOME_12539|true| true|  Ouro|   F|          Recife|    BANANA NANICA KG| PERECIVEIS|       F L V|       FRUTAS|                 |               13|2020| 12|  3|\n",
      "|7896864400178|      1195|      7917141|2020-09-22| 35|  5|NOME_a1195|true| true|  Ouro|   M|    Campo Alegre|                null|       null|        null|         null|             null|               14|2020|  9| 22|\n",
      "|         1663|     14173|      7916639|2020-09-22|  7|  1|NOME_14173|true|false|  Ouro|   F|  Rio de Janeiro|    BANANA NANICA KG| PERECIVEIS|       F L V|       FRUTAS|                 |               15|2020|  9| 22|\n",
      "|         1663|      2274|      8036529|2020-10-19|  9|  3|NOME_e2274|true|false|  Ouro|   M|          Manaus|    BANANA NANICA KG| PERECIVEIS|       F L V|       FRUTAS|                 |               16|2020| 10| 19|\n",
      "|7897001010014|      1364|      8121027|2020-11-07| 15|  2|NOME_n1364|true| true|  Ouro|   F|          Manaus|                null|       null|        null|         null|             null|               17|2020| 11|  7|\n",
      "|         5623|     23792|      8136281|2020-11-11|  5|  1|      null|null| null|  null|null|            null|  CEBOLA NACIONAL KG| PERECIVEIS|       F L V|       CEBOLA|                 |               18|2020| 11| 11|\n",
      "|         5623|      1324|      8308469|2020-12-19|  5|  1|NOME_r1324|true| true|  Ouro|   F|     Campo Largo|  CEBOLA NACIONAL KG| PERECIVEIS|       F L V|       CEBOLA|                 |               19|2020| 12| 19|\n",
      "+-------------+----------+-------------+----------+---+---+----------+----+-----+------+----+----------------+--------------------+-----------+------------+-------------+-----------------+-----------------+----+---+---+\n",
      "only showing top 20 rows\n",
      "\n"
     ]
    }
   ],
   "source": [
    "df_vendas.show()"
   ]
  },
  {
   "cell_type": "markdown",
   "metadata": {
    "id": "vSgH-MdLxhmw"
   },
   "source": [
    "## Na coluna sms, se caso o valor for null, troque por “False” "
   ]
  },
  {
   "cell_type": "code",
   "execution_count": null,
   "metadata": {
    "id": "wXDK3QYHuyQs"
   },
   "outputs": [],
   "source": [
    "# Trocando o valor 'Nulo' para 'False' e mantendo os outros valores\n",
    "\n",
    "df_vendas = df_vendas.withColumn(\"sms\",f.when(df_vendas.sms.isNull(),False).otherwise(df_vendas.sms))"
   ]
  },
  {
   "cell_type": "markdown",
   "metadata": {
    "id": "DgGlBI9uxm2Z"
   },
   "source": [
    "## Crie uma coluna chamada “total” que deve ser a multiplicação das colunas “vlr” e “qtd”.\n"
   ]
  },
  {
   "cell_type": "code",
   "execution_count": null,
   "metadata": {
    "id": "QBXTyMov3NVh"
   },
   "outputs": [],
   "source": [
    "# Nova coluna \"total\", multiplicação da quantidade e valor\n",
    "df_vendas = df_vendas.withColumn(\"total\",df_vendas.qtd * df_vendas.vlr)"
   ]
  },
  {
   "cell_type": "markdown",
   "metadata": {
    "id": "pb23mktfxvTK"
   },
   "source": [
    "## Grave o dataframe particionado por ano, mes e dia no formato “parquet” de nome “vendas_tratadas”"
   ]
  },
  {
   "cell_type": "code",
   "execution_count": null,
   "metadata": {
    "id": "9lDSs8K23nBT"
   },
   "outputs": [],
   "source": [
    "# dataframe particionado por ano, mes e dia\n",
    "df_vendas.write.partitionBy(\"Ano\",\"Mes\",\"Dia\").parquet(\"/content/vendas_tratadas\")"
   ]
  },
  {
   "cell_type": "markdown",
   "metadata": {
    "id": "8T2bC4Ofxy5j"
   },
   "source": [
    "## Crie uma tabela temporaria chamada “vendas_table”"
   ]
  },
  {
   "cell_type": "code",
   "execution_count": null,
   "metadata": {
    "id": "mEpExOyM3m0F"
   },
   "outputs": [],
   "source": [
    "# Criando a tabela temporária \"vendas_table\"\n",
    "df_vendas.registerTempTable(\"vendas_table\")"
   ]
  },
  {
   "cell_type": "code",
   "execution_count": null,
   "metadata": {
    "id": "936XNKHR3mLd"
   },
   "outputs": [],
   "source": [
    "# Visualizando dados da tabela temporária\n",
    "spark.sql(\"select * from vendas_table\").show()"
   ]
  },
  {
   "cell_type": "markdown",
   "metadata": {
    "id": "JnVASUVNyAPj"
   },
   "source": [
    "## Crie um dataframe spark.sql utilizando a query spark.sql. Grave esse dataframe no formato “parquet” de nome  “cidade”.\n"
   ]
  },
  {
   "cell_type": "code",
   "execution_count": null,
   "metadata": {
    "id": "sQAsv0ei3mA0"
   },
   "outputs": [],
   "source": [
    "# Gravando dataframe \"cidade\"\n",
    "df_cidade = spark.sql(\"select distinct cidade from vendas_table\")\n",
    "df_cidade.write.parquet(\"/content/cidade\")"
   ]
  },
  {
   "cell_type": "markdown",
   "metadata": {
    "id": "3SA18ectyH2i"
   },
   "source": [
    "## Criar um dataframe com a soma do vlr, soma da qtd agrupado pela data. Gravar esse dataframe no formato “parquet” de nome “vendas_total”"
   ]
  },
  {
   "cell_type": "code",
   "execution_count": null,
   "metadata": {
    "id": "bq2Eo7hd3l1N"
   },
   "outputs": [],
   "source": [
    "# Agrupamento de data somando o campo \"vlr\" e \"qtd\" e salvando arquivo parquet\n",
    "vendas_total = df_vendas.groupBy(\"data\").sum(\"vlr\",\"qtd\")\n",
    "vendas_total = vendas_total.withColumnRenamed(\"sum(vlr)\",\"soma_vlr\")\n",
    "vendas_total = vendas_total.withColumnRenamed(\"sum(qtd)\",\"soma_qtd\")\n",
    "vendas_total.write.parquet(\"/content/vendas_total\")"
   ]
  },
  {
   "cell_type": "markdown",
   "metadata": {
    "id": "7RBqNKwkyUzR"
   },
   "source": [
    "## Crie um novo dataframe chamado “produto” selecionando as colunas: “des_produto”,”des_familia”, “des_secao”, “des_categoria”,”des_sub_categoria”. Apenas valores unicos (distinct()). Grave esse dataframe como parquet “produto”\n"
   ]
  },
  {
   "cell_type": "code",
   "execution_count": null,
   "metadata": {
    "id": "3K5eOJPnA64q"
   },
   "outputs": [],
   "source": [
    "# Distinct das colunas e gravar arquivos parquet\n",
    "df_produto = spark.sql(\"select distinct des_produto,des_familia,des_secao,des_categoria,des_sub_categoria from vendas_table\")\n",
    "df_produto.write.parquet(\"/content/produto\")"
   ]
  },
  {
   "cell_type": "markdown",
   "metadata": {
    "id": "XBBV73dcycIM"
   },
   "source": [
    "##  Crie um dataframe chamado “venda_mulheres”, selecionando todas as colunas e filtrando apenas vendas realizadas para o sexo “F”, grave esse dataframe no formato json “venda_mulher”. \n"
   ]
  },
  {
   "cell_type": "code",
   "execution_count": null,
   "metadata": {
    "id": "XqVXP7w4A6vB"
   },
   "outputs": [],
   "source": [
    "# Vendas realizadas para mulheres\n",
    "vendas_mulheres = df_vendas.where(df_vendas.sexo==\"F\")\n",
    "vendas_mulheres.write.format(\"json\").save(\"venda_mulher\")"
   ]
  },
  {
   "cell_type": "markdown",
   "metadata": {
    "id": "Pj551PBcyhor"
   },
   "source": [
    "## Crie um dataframe chamado “venda_unicas”, selecionando todas as colunas e filtrando apenas vendas com a qtd igual 1 e o vlr menor que 10. Grave esse dataframe no formato csv“venda_unica”."
   ]
  },
  {
   "cell_type": "code",
   "execution_count": null,
   "metadata": {
    "id": "amRqZEKHA6lb"
   },
   "outputs": [],
   "source": [
    "# Vendas realizadas para mulheres\n",
    "vendas_unicas = df_vendas.where((df_vendas.qtd==1) & (df_vendas.vlr<10))\n",
    "vendas_unicas.write.format(\"csv\").save(\"venda_unica\")"
   ]
  }
 ],
 "metadata": {
  "colab": {
   "name": "ENGDADOS_AC04.ipynb",
   "provenance": []
  },
  "kernelspec": {
   "display_name": "Python 3",
   "language": "python",
   "name": "python3"
  },
  "language_info": {
   "codemirror_mode": {
    "name": "ipython",
    "version": 3
   },
   "file_extension": ".py",
   "mimetype": "text/x-python",
   "name": "python",
   "nbconvert_exporter": "python",
   "pygments_lexer": "ipython3",
   "version": "3.8.5"
  }
 },
 "nbformat": 4,
 "nbformat_minor": 1
}
